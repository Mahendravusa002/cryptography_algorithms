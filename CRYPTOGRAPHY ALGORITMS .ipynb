{
 "cells": [
  {
   "cell_type": "code",
   "execution_count": 21,
   "id": "38b5307f",
   "metadata": {},
   "outputs": [
    {
     "name": "stdout",
     "output_type": "stream",
     "text": [
      "4\n",
      "KEY: 4\n",
      "mahendra\n",
      "Message: mahendra\n",
      "Encrypted: qelirhve\n",
      "Decrypted: mahendra\n"
     ]
    }
   ],
   "source": [
    "#Ceaser cipher\n",
    "def process(key,pt):\n",
    "    res=''\n",
    "    for i in pt:\n",
    "        if i==' ':\n",
    "            res+=' '\n",
    "        else:\n",
    "            ch=97+(ord(i)+key-97)%27\n",
    "            res+=chr(ch)\n",
    "    return res\n",
    "\n",
    "key=int(input())\n",
    "print(\"KEY:\",key)\n",
    "msg=input()\n",
    "print(\"Message:\",msg)\n",
    "en=process(key,msg)\n",
    "print(\"Encrypted:\",en)\n",
    "de=process(-key,en)\n",
    "print(\"Decrypted:\",de)\n"
   ]
  },
  {
   "cell_type": "code",
   "execution_count": 28,
   "id": "4f871046",
   "metadata": {},
   "outputs": [
    {
     "name": "stdout",
     "output_type": "stream",
     "text": [
      "message: classa\n",
      "key: hello\n",
      "Encryption: deluul\n",
      "Decryption: classa\n"
     ]
    }
   ],
   "source": [
    "#Playfair cipher\n",
    "def matrix(key):\n",
    "    key=key.replace('j','i')\n",
    "    k=''\n",
    "    s=set()\n",
    "    for i in key:\n",
    "        if i not in s:\n",
    "            k+=i\n",
    "            s.add(i)\n",
    "    key=k\n",
    "    for i in range(97,123):\n",
    "        if chr(i)!='j' and chr(i) not in key:\n",
    "            key+=chr(i)\n",
    "    return [list(key[i:i+5]) for i in range(0,25,5)]\n",
    "\n",
    "def find(ch,mat):\n",
    "    if ch=='j':\n",
    "        ch='i'\n",
    "    for i in range(5):\n",
    "        for j in range(5):\n",
    "            if mat[i][j]==ch:\n",
    "                return [i,j]\n",
    "\n",
    "def bigrams(pt):\n",
    "    if len(pt)%2!=0:\n",
    "        pt+='z'\n",
    "    res=[]\n",
    "    for i in range(0,len(pt),2):\n",
    "        a,b=pt[i],pt[i+1]\n",
    "        if a==b:\n",
    "            res.append([a,'x'])\n",
    "        else:\n",
    "            res.append([a,b])\n",
    "    return res\n",
    "\n",
    "def process(bi,mat,mode):\n",
    "    res=''\n",
    "    for i in bi:\n",
    "        a,b=i\n",
    "        \n",
    "        ra,ca=find(a,mat)\n",
    "        rb,cb=find(b,mat)\n",
    "        if ra==rb:\n",
    "            if mode=='encode':\n",
    "                res+=mat[ra][(ca+1)%5]+mat[rb][(cb+1)%5]\n",
    "            else:\n",
    "                res+=mat[ra][(col-1)%5]+mat[rb][(col-1)%5]\n",
    "        elif ca==cb:\n",
    "            if mode=='encode':\n",
    "                res+=mat[(ra+1)%5][ca]+mat[(rb+1)%5][ca]\n",
    "            else:\n",
    "                res+=mat[(ra-1)%5][ca]+mat[(rb-1)%5][ca]\n",
    "        else:\n",
    "            res+=mat[ra][cb]+mat[rb][ca]\n",
    "    return res\n",
    "\n",
    "key='hello'\n",
    "msg='classa'\n",
    "print(\"message:\",msg)\n",
    "print(\"key:\",key)\n",
    "mat=matrix(key)\n",
    "bi=bigrams(msg)\n",
    "en=process(bi,mat,'encode')\n",
    "print(\"Encryption:\",en)\n",
    "bii=bigrams(en)\n",
    "de=process(bii,mat,'decode')\n",
    "print('Decryption:',de)\n",
    "\n",
    "                \n",
    "    \n",
    "    "
   ]
  },
  {
   "cell_type": "code",
   "execution_count": 29,
   "id": "ff506b58",
   "metadata": {},
   "outputs": [
    {
     "name": "stdout",
     "output_type": "stream",
     "text": [
      "1234\n",
      "mahendra\n",
      "[['m', 'a', 'h', 'e'], ['n', 'd', 'r', 'a']]\n",
      "mnadhrea\n"
     ]
    }
   ],
   "source": [
    "#Column Transpostion\n",
    "def minInd(arr):\n",
    "    minn=min(arr)\n",
    "    ind=arr.index(minn)\n",
    "    arr[ind]=1000\n",
    "    return ind\n",
    "\n",
    "def matrix(pt,key):\n",
    "    cols=len(key)\n",
    "    rem=len(pt)%cols\n",
    "    if rem:\n",
    "        pt+=''.join([' ' for i in range(cols-rem)])\n",
    "    return [list(pt[i:i+cols]) for i in range(0,len(pt),cols)]\n",
    "\n",
    "def col(key,mat):\n",
    "    arr=[int(i) for i in key]\n",
    "    res=''\n",
    "    for i in range(len(arr)):\n",
    "        minn=minInd(arr)\n",
    "        for i in range(len(mat)):\n",
    "            res+=mat[i][minn]\n",
    "    return res\n",
    "\n",
    "key=input()\n",
    "msg=input()\n",
    "mat=matrix(msg,key)\n",
    "print(mat)\n",
    "en=col(key,mat)\n",
    "print(en)"
   ]
  },
  {
   "cell_type": "code",
   "execution_count": null,
   "id": "e893feca",
   "metadata": {},
   "outputs": [],
   "source": [
    "#AES (only run in COLAB)\n",
    "!pip install pycryptodome\n",
    "\n",
    "from Crypto.Utils.Padding import pad, unpad\n",
    "from Crypto.Cipher import AES\n",
    "\n",
    "def encry(key,msg):\n",
    "    cipher=AES.new(key,AES.MODE_ECB)\n",
    "    padd=pad(text.encode(),AES.block_size)\n",
    "    return cipher.encrypt(padd)\n",
    "\n",
    "def decrypt(key,encry):\n",
    "    cipher=AES.new(key,AES.MODE_ECB)\n",
    "    unpd=unpad(cipher.decrypt(),AES.block_size)\n",
    "    return unpad.decode()\n",
    "\n",
    "key='hello'\n",
    "text='mahendra'\n",
    "enc=encry(key,text)\n",
    "dec=decry(key,enc)\n",
    "print('Encryption:',enc)\n",
    "print(\"Decryption:\",dec)"
   ]
  },
  {
   "cell_type": "code",
   "execution_count": 1,
   "id": "59b04efe",
   "metadata": {},
   "outputs": [
    {
     "name": "stdout",
     "output_type": "stream",
     "text": [
      "message: 12\n",
      "Encrypted: 3.0\n",
      "Decrypted: 12.0\n"
     ]
    }
   ],
   "source": [
    "#Riverst shamir Adleman Algorithm\n",
    "import random\n",
    "import math\n",
    "p,q=7,3\n",
    "n=p*q\n",
    "phi=(p-1)*(q-1)\n",
    "e=2\n",
    "while(math.gcd(e,phi)!=1):\n",
    "    e+=1\n",
    "k=2\n",
    "d=(1+(k*phi))/e\n",
    "\n",
    "m=12\n",
    "enc=pow(m,e)\n",
    "encry=math.fmod(enc,n)\n",
    "de=pow(encry,d)\n",
    "decry=math.fmod(de,n)\n",
    "print(\"message:\",m)\n",
    "print(\"Encrypted:\",encry)\n",
    "print(\"Decrypted:\", decry)\n"
   ]
  },
  {
   "cell_type": "code",
   "execution_count": 5,
   "id": "0231b436",
   "metadata": {},
   "outputs": [
    {
     "name": "stdout",
     "output_type": "stream",
     "text": [
      "8 5\n",
      "16 20\n",
      "6 6\n"
     ]
    }
   ],
   "source": [
    "#deffie hellmen algorithm \n",
    "import random \n",
    "p,q=23,5\n",
    "def generate_public_key(private_key):\n",
    "    return (q**private_key)%p\n",
    "\n",
    "private_a=random.randint(1,p-1)\n",
    "private_b=random.randint(1,p-1)\n",
    "print(private_a, private_b)\n",
    "public_a=generate_public_key(private_a)\n",
    "public_b=generate_public_key(private_b)\n",
    "print(public_a, public_b)\n",
    "shared_a=(public_b**private_a)%p\n",
    "shared_b=(public_a**private_b)%p\n",
    "print(shared_a, shared_b)"
   ]
  },
  {
   "cell_type": "code",
   "execution_count": 24,
   "id": "f948f7d8",
   "metadata": {},
   "outputs": [
    {
     "name": "stdout",
     "output_type": "stream",
     "text": [
      "message:- Hello,RC4!\n",
      "ÂJö,SìU\n",
      "Hello,RC4!\n"
     ]
    }
   ],
   "source": [
    "#Rivest cipher-4\n",
    "def process(key,pt):\n",
    "    s=list(range(256))\n",
    "    j=0\n",
    "    for i in range(256):\n",
    "        j=(j+s[i]+ord(key[i%len(key)]))%256\n",
    "        s[i],s[j]=s[j],s[i]\n",
    "    i=j=0\n",
    "    keystream=[]\n",
    "    for _ in range(len(pt)):\n",
    "        i=(i+1)%256\n",
    "        j=(j+s[i])%256\n",
    "        s[i],s[j]=s[j],s[i]\n",
    "        keystream.append(s[(s[i]+s[j])%256])\n",
    "    res=[]\n",
    "    for k,p in zip(keystream,pt):\n",
    "        res.append(chr(ord(p)^k))\n",
    "    return ''.join(res)\n",
    "\n",
    "key='simplekey'\n",
    "\n",
    "message='Hello,RC4!'\n",
    "print(\"message:-\",message)\n",
    "en=process(key,message)\n",
    "print(en)\n",
    "print(process(key,en))\n"
   ]
  },
  {
   "cell_type": "code",
   "execution_count": 14,
   "id": "5d3ee051",
   "metadata": {},
   "outputs": [
    {
     "name": "stdout",
     "output_type": "stream",
     "text": [
      "sha3_224\n",
      "28\n",
      "message Mahendra\n",
      "a2c4ef9024efdb9d4af6bf931da7638f23579fe334ccf77f948e2fed\n"
     ]
    }
   ],
   "source": [
    "#SHA-3 algorithm\n",
    "import hashlib\n",
    "import sys\n",
    "\n",
    "if sys.version_info<(3,6):\n",
    "    import sha3\n",
    "    \n",
    "s=hashlib.sha3_224()\n",
    "print(s.name)\n",
    "print(s.digest_size)\n",
    "msg='Mahendra'\n",
    "print('message',msg)\n",
    "msg=bytes(msg,'utf-8')\n",
    "s.update(msg)\n",
    "print(s.hexdigest())\n"
   ]
  },
  {
   "cell_type": "code",
   "execution_count": 15,
   "id": "139b35a3",
   "metadata": {},
   "outputs": [
    {
     "name": "stdout",
     "output_type": "stream",
     "text": [
      "key: mysecreatkey\n",
      "message: Hello,HMAC!\n",
      "HMAC output: b62aaeeacb93e4bf6b672a0896a8d2d1651e0a9cc2362c6e26073f233abd48df\n"
     ]
    }
   ],
   "source": [
    "#HMAC\n",
    "import hmac\n",
    "import hashlib\n",
    "\n",
    "def generate(key,message):\n",
    "    hash_function=hashlib.sha256\n",
    "    key=bytes(key,'utf-8')\n",
    "    message=bytes(message,'utf-8')\n",
    "    hmacc=hmac.new(key,message,digestmod=hash_function)\n",
    "    hexx=hmacc.hexdigest()\n",
    "    return hexx\n",
    "\n",
    "key='mysecreatkey'\n",
    "message='Hello,HMAC!'\n",
    "print('key:',key)\n",
    "print('message:',message)\n",
    "print('HMAC output:',generate(key,message))"
   ]
  },
  {
   "cell_type": "code",
   "execution_count": 20,
   "id": "ad286ddf",
   "metadata": {},
   "outputs": [
    {
     "name": "stdout",
     "output_type": "stream",
     "text": [
      "message: mahendra\n",
      "b'0D\\x02 \\x17t\\xe8m\\xc1Q\\x9f+\\xf3\\x07\\xf1\\xbf\\x90a\\xdb\\xf3\\xb6b<\\x7f\\\\\\xb65\\xa3\\xedO\\xc5.Q\\x12#\\xa2\\x02 SO\\x13=b\\xac5v$\\xa4\\xeb\\x82B\\x81\\xdb185\\xc8\\x9d\\xad\\xb3a\\xf1\\xa3\\xb6\\xd1\\x8e\\x999N-'\n",
      "success\n"
     ]
    }
   ],
   "source": [
    "#DSS Digital signature stadards\n",
    "\n",
    "!pip install cryptography\n",
    "\n",
    "\n",
    "from cryptography.hazmat.primitives.asymmetric import dsa\n",
    "from cryptography.hazmat.primitives import hashes\n",
    "\n",
    "private_key=dsa.generate_private_key(key_size=2048)\n",
    "public_key=private_key.public_key()\n",
    "\n",
    "message='mahendra'\n",
    "print(\"message:\",message)\n",
    "msg=bytes(message,'utf-8')\n",
    "signature=private_key.sign(msg,hashes.SHA256())\n",
    "print(signature)\n",
    "try:\n",
    "    public_key.verify(signature,msg,hashes.SHA256())\n",
    "    print(\"success\")\n",
    "except Exception as e:\n",
    "    print(\"Not Successful:\",str(e))"
   ]
  },
  {
   "cell_type": "code",
   "execution_count": null,
   "id": "e0ca233c",
   "metadata": {},
   "outputs": [],
   "source": []
  }
 ],
 "metadata": {
  "kernelspec": {
   "display_name": "Python 3 (ipykernel)",
   "language": "python",
   "name": "python3"
  },
  "language_info": {
   "codemirror_mode": {
    "name": "ipython",
    "version": 3
   },
   "file_extension": ".py",
   "mimetype": "text/x-python",
   "name": "python",
   "nbconvert_exporter": "python",
   "pygments_lexer": "ipython3",
   "version": "3.10.11"
  }
 },
 "nbformat": 4,
 "nbformat_minor": 5
}
