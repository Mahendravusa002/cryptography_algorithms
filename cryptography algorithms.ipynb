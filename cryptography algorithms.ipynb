{
 "cells": [
  {
   "cell_type": "code",
   "execution_count": 5,
   "id": "6867250d",
   "metadata": {},
   "outputs": [
    {
     "name": "stdout",
     "output_type": "stream",
     "text": [
      "5\n",
      "m ajdfj fasdfjasdf a adsfasdff\n",
      "Original text: m ajdfj fasdfjasdf a adsfasdff\n",
      "Encrypted text: r foiko kfxikofxik f fixkfxikk\n",
      "Decrypted text: m ajdfj fasdfjasdf a adsfasdff\n"
     ]
    }
   ],
   "source": [
    "#ceaser cipher\n",
    "\n",
    "def process(t,key):\n",
    "    res=''\n",
    "    for i in t:\n",
    "        if i.isalpha():\n",
    "            shift= 65 if i.isupper() else 97\n",
    "            res+=chr((ord(i)-shift+key)%26+shift)\n",
    "        else:\n",
    "            res+=i\n",
    "    return res\n",
    "\n",
    "# main function\n",
    "key=int(input())\n",
    "text=input()\n",
    "encrypted=process(text, key)\n",
    "decrypted=process(encrypted,-key)\n",
    "print(\"Original text:\",text)\n",
    "print('Encrypted text:',encrypted)\n",
    "print('Decrypted text:', decrypted)"
   ]
  },
  {
   "cell_type": "code",
   "execution_count": null,
   "id": "f6a58fa6",
   "metadata": {},
   "outputs": [],
   "source": [
    "# playfair cipher\n",
    "def encrypt(t)"
   ]
  },
  {
   "cell_type": "code",
   "execution_count": 6,
   "id": "6cef55f9",
   "metadata": {},
   "outputs": [
    {
     "name": "stdout",
     "output_type": "stream",
     "text": [
      "Collecting pycryptodome\n",
      "  Downloading pycryptodome-3.21.0-cp36-abi3-win_amd64.whl (1.8 MB)\n",
      "Installing collected packages: pycryptodome\n",
      "Successfully installed pycryptodome-3.21.0\n"
     ]
    }
   ],
   "source": [
    "!pip install pycryptodome"
   ]
  },
  {
   "cell_type": "code",
   "execution_count": 9,
   "id": "54967655",
   "metadata": {},
   "outputs": [
    {
     "name": "stdout",
     "output_type": "stream",
     "text": [
      "Encrypted: /HtmKdUTg+3sbVcnUvYVMvDTA/cdRMunhPET/v49jBc=\n",
      "Decrypted: Hello, world!\n"
     ]
    }
   ],
   "source": [
    "#AES\n",
    "\n",
    "from Crypto.Cipher import AES\n",
    "from Crypto.Random import get_random_bytes\n",
    "import base64\n",
    "\n",
    "# Encrypt function\n",
    "def encrypt_aes(plaintext, key):\n",
    "    \n",
    "    key_bytes = key.encode('utf-8')\n",
    "    key_bytes = key_bytes[:32]  \n",
    "    key_bytes = key_bytes.ljust(32, b'\\0')  \n",
    "    \n",
    "    cipher = AES.new(key_bytes, AES.MODE_ECB)  \n",
    "    \n",
    "    \n",
    "    padded_text = plaintext.ljust(32)  \n",
    "    \n",
    "    ciphertext = cipher.encrypt(padded_text.encode('utf-8'))\n",
    "    return base64.b64encode(ciphertext).decode('utf-8')\n",
    "\n",
    "# Decrypt function\n",
    "def decrypt_aes(ciphertext, key):\n",
    "   \n",
    "    key_bytes = key.encode('utf-8')\n",
    "    key_bytes = key_bytes[:32] \n",
    "    key_bytes = key_bytes.ljust(32, b'\\0')  \n",
    "    \n",
    "    cipher = AES.new(key_bytes, AES.MODE_ECB)  \n",
    "    \n",
    "\n",
    "    ciphertext_bytes = base64.b64decode(ciphertext)\n",
    "    decrypted = cipher.decrypt(ciphertext_bytes)\n",
    "    \n",
    "    return decrypted.decode('utf-8').strip()\n",
    "\n",
    "# Example usage\n",
    "\n",
    "key = \"thisisaverysecret\"  #\n",
    "plaintext = \"Hello, world!\"\n",
    "\n",
    "\n",
    "encrypted = encrypt_aes(plaintext, key)\n",
    "print(f\"Encrypted: {encrypted}\")\n",
    "\n",
    "\n",
    "decrypted = decrypt_aes(encrypted, key)\n",
    "print(f\"Decrypted: {decrypted}\")\n",
    "\n"
   ]
  },
  {
   "cell_type": "code",
   "execution_count": 13,
   "id": "ca82d37c",
   "metadata": {},
   "outputs": [
    {
     "name": "stdout",
     "output_type": "stream",
     "text": [
      "Original message: 12\n",
      "Encrypted message: 3\n",
      "Decrypted message: 12\n"
     ]
    }
   ],
   "source": [
    "#RSA algorithm\n",
    "import math\n",
    "\n",
    "# RSA parameters\n",
    "p, q = 3, 7\n",
    "n = p * q  # Modulus\n",
    "e = 2\n",
    "phi = (p - 1) * (q - 1)  # Euler's totient\n",
    "\n",
    "# Find 'e' such that 1 < e < phi and gcd(e, phi) == 1\n",
    "while e < phi:\n",
    "    if math.gcd(e, phi) == 1:\n",
    "        break\n",
    "    else:\n",
    "        e += 1  # Increment e until gcd(e, phi) == 1\n",
    "\n",
    "# Function to calculate the modular inverse of e (private key d)\n",
    "def extended_gcd(a, b):\n",
    "    if a == 0:\n",
    "        return b, 0, 1\n",
    "    gcd, x1, y1 = extended_gcd(b % a, a)\n",
    "    x = y1 - (b // a) * x1\n",
    "    y = x1\n",
    "    return gcd, x, y\n",
    "\n",
    "def mod_inverse(e, phi):\n",
    "    gcd, x, y = extended_gcd(e, phi)\n",
    "    if gcd != 1:\n",
    "        raise Exception(\"Modular inverse does not exist\")\n",
    "    return x % phi  # Ensure the result is positive\n",
    "\n",
    "# Calculate private key 'd'\n",
    "d = mod_inverse(e, phi)\n",
    "\n",
    "# RSA encryption and decryption functions\n",
    "def encrypt(msg, e, n):\n",
    "    return pow(msg, e, n)  # (msg^e) % n for encryption\n",
    "\n",
    "def decrypt(c, d, n):\n",
    "    return pow(c, d, n)  # (c^d) % n for decryption\n",
    "\n",
    "# Example message\n",
    "msg = 12  # The message to be encrypted, must be less than n\n",
    "print(\"Original message:\", msg)\n",
    "\n",
    "# Encrypt the message\n",
    "c = encrypt(msg, e, n)\n",
    "print(\"Encrypted message:\", c)\n",
    "\n",
    "# Decrypt the message\n",
    "decrypted_msg = decrypt(c, d, n)\n",
    "print(\"Decrypted message:\", decrypted_msg)\n"
   ]
  },
  {
   "cell_type": "code",
   "execution_count": 16,
   "id": "30506177",
   "metadata": {},
   "outputs": [
    {
     "name": "stdout",
     "output_type": "stream",
     "text": [
      "13\n",
      "13\n"
     ]
    }
   ],
   "source": [
    "#deffie hellman algorithm\n",
    "\n",
    "import random\n",
    "p,q=23,5\n",
    "def compute_public_key(private_key):\n",
    "    return (9**private_key)%p\n",
    "private_a=random.randint(1,p-1)\n",
    "private_b=random.randint(1,p-1)\n",
    "public_a=compute_public_key(private_a)\n",
    "public_b=compute_public_key(private_b)\n",
    "shared_a=(public_b**private_a)%p\n",
    "shared_b=(public_a**private_b)%p\n",
    "print(shared_a)\n",
    "print(shared_b)"
   ]
  },
  {
   "cell_type": "code",
   "execution_count": null,
   "id": "4c173f47",
   "metadata": {},
   "outputs": [],
   "source": []
  }
 ],
 "metadata": {
  "kernelspec": {
   "display_name": "Python 3 (ipykernel)",
   "language": "python",
   "name": "python3"
  },
  "language_info": {
   "codemirror_mode": {
    "name": "ipython",
    "version": 3
   },
   "file_extension": ".py",
   "mimetype": "text/x-python",
   "name": "python",
   "nbconvert_exporter": "python",
   "pygments_lexer": "ipython3",
   "version": "3.9.7"
  }
 },
 "nbformat": 4,
 "nbformat_minor": 5
}
